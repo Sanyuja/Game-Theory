{
 "cells": [
  {
   "cell_type": "code",
   "execution_count": 20,
   "metadata": {
    "collapsed": true
   },
   "outputs": [],
   "source": [
    "import gym\n",
    "import numpy as np\n",
    "import random\n",
    "from IPython.display import clear_output\n",
    "import time\n",
    "import matplotlib.pyplot as plt\n",
    "%matplotlib inline\n",
    "from pylab import rcParams\n",
    "rcParams['figure.figsize'] = 10, 5\n"
   ]
  },
  {
   "cell_type": "code",
   "execution_count": 2,
   "metadata": {},
   "outputs": [
    {
     "name": "stdout",
     "output_type": "stream",
     "text": [
      "+---------+\n",
      "|\u001b[35mR\u001b[0m: | : :\u001b[34;1mG\u001b[0m|\n",
      "| : : : : |\n",
      "| : :\u001b[43m \u001b[0m: : |\n",
      "| | : | : |\n",
      "|Y| : |B: |\n",
      "+---------+\n",
      "\n"
     ]
    }
   ],
   "source": [
    "env = gym.make('Taxi-v2').env\n",
    "env.render()"
   ]
  },
  {
   "cell_type": "code",
   "execution_count": 3,
   "metadata": {},
   "outputs": [
    {
     "name": "stdout",
     "output_type": "stream",
     "text": [
      "+---------+\n",
      "|R: | : :G|\n",
      "| : : : : |\n",
      "|\u001b[43m \u001b[0m: : : : |\n",
      "| | : | : |\n",
      "|\u001b[35mY\u001b[0m| : |\u001b[34;1mB\u001b[0m: |\n",
      "+---------+\n",
      "\n",
      "Action Space Discrete(6)\n",
      "State Space Discrete(500)\n"
     ]
    }
   ],
   "source": [
    "env.reset()\n",
    "env.render()\n",
    "\n",
    "print('Action Space {}'.format(env.action_space))\n",
    "\n",
    "print('State Space {}'.format(env.observation_space))\n"
   ]
  },
  {
   "cell_type": "code",
   "execution_count": 5,
   "metadata": {},
   "outputs": [
    {
     "name": "stdout",
     "output_type": "stream",
     "text": [
      "State :  428\n"
     ]
    }
   ],
   "source": [
    "\n",
    "state = env.encode(4,1,2,0)\n",
    "print(\"State : \",state)\n"
   ]
  },
  {
   "cell_type": "code",
   "execution_count": 7,
   "metadata": {},
   "outputs": [
    {
     "data": {
      "text/plain": [
       "array([[ 0.,  0.,  0.,  0.,  0.,  0.],\n",
       "       [ 0.,  0.,  0.,  0.,  0.,  0.],\n",
       "       [ 0.,  0.,  0.,  0.,  0.,  0.],\n",
       "       ..., \n",
       "       [ 0.,  0.,  0.,  0.,  0.,  0.],\n",
       "       [ 0.,  0.,  0.,  0.,  0.,  0.],\n",
       "       [ 0.,  0.,  0.,  0.,  0.,  0.]])"
      ]
     },
     "execution_count": 7,
     "metadata": {},
     "output_type": "execute_result"
    }
   ],
   "source": [
    "#intialize the Q-Table with Zeros \n",
    "q_table= np.zeros([env.observation_space.n,env.action_space.n])\n",
    "q_table\n"
   ]
  },
  {
   "cell_type": "code",
   "execution_count": 8,
   "metadata": {
    "collapsed": true
   },
   "outputs": [],
   "source": [
    "#Hyparameters\n",
    "gamma  = 0.9\n",
    "alpha = 0.1 #learning rate\n",
    "\n",
    "epsilon = 0.1\n",
    "max_epsilon=1.0\n",
    "min_epsilon=0.01\n",
    "decay_rate = 0.01\n",
    "\n",
    "all_epochs = []\n",
    "all_penalities=[]\n",
    "penalities=0"
   ]
  },
  {
   "cell_type": "code",
   "execution_count": 19,
   "metadata": {},
   "outputs": [
    {
     "name": "stdout",
     "output_type": "stream",
     "text": [
      "Episode: 900\n",
      "Training Finished..\n"
     ]
    }
   ],
   "source": [
    "epsilons= []\n",
    "for i in range(1,1000):\n",
    "    state = env.reset()\n",
    "    \n",
    "    epochs, penalites,reward = 0,0,0\n",
    "    done = False\n",
    "    \n",
    "    while not done:\n",
    "        if random.uniform(0,1)<epsilon:\n",
    "            action = env.action_space.sample()\n",
    "        else:\n",
    "            action = np.argmax(q_table[state])\n",
    "        \n",
    "        next_state,reward,done,info = env.step(action)\n",
    "        \n",
    "        \n",
    "        next_max = np.max(q_table[next_state])\n",
    "        \n",
    "        q_table[state,action] =  q_table[state,action]\n",
    "                                        + alpha * ( reward + gamma * \n",
    "                                         next_max - q_table[state,action])\n",
    "       \n",
    "        \n",
    "        if reward == -10:\n",
    "            penalities +=1\n",
    "        \n",
    "        state = next_state\n",
    "        epochs +=1\n",
    "    epsilon= min_epsilon +(max_epsilon-min_epsilon) * np.exp(-0.1*epsilon)\n",
    "    epsilons.append(epsilon)\n",
    "    if i%100==0:\n",
    "        clear_output(wait=True)\n",
    "        print('Episode: {}'.format(i))\n",
    "\n",
    "print('Training Finished..')"
   ]
  },
  {
   "cell_type": "code",
   "execution_count": 24,
   "metadata": {},
   "outputs": [
    {
     "name": "stdout",
     "output_type": "stream",
     "text": [
      "Results After 1000 episodes\n",
      "Average timestep per Episode :12.542\n",
      "Average Penalties per Episode : 0.0\n",
      "Reward_total 20000\n",
      "Computational time 0.005227088928222656 seconds\n"
     ]
    }
   ],
   "source": [
    "episodes=[]\n",
    "\n",
    "penalites=0\n",
    "total_epochs , total_penalities =0,0\n",
    "episode = 1000\n",
    "rewards=[]\n",
    "for _ in range(episode):\n",
    "    start= time.time()\n",
    "    state = env.reset()\n",
    "    epochs , penalties , reward = 0,0,0\n",
    "    \n",
    "    done = False\n",
    "    \n",
    "    while not done:\n",
    "        env.render()\n",
    "        action = np.argmax(q_table[state])\n",
    "        state,reward,done,info = env.step(action)\n",
    "        \n",
    "        if reward == -10:\n",
    "            penalites+=1\n",
    "        \n",
    "        epochs+=1\n",
    "    rewards.append(reward)\n",
    "    episodes.append(_)\n",
    "    total_epochs+=epochs\n",
    "    total_penalities+=penalites\n",
    "    clear_output(wait=True)\n",
    "    end= time.time()\n",
    "\n",
    "    \n",
    "print('Results After {} episodes'.format(episode))\n",
    "print('Average timestep per Episode :{}'.format(total_epochs/episode))\n",
    "print('Average Penalties per Episode : {}'.format(total_penalities/episode))\n",
    "print('Reward_total',np.sum(rewards) )\n",
    "print('Computational time {} seconds'.format(end-start))"
   ]
  },
  {
   "cell_type": "code",
   "execution_count": 29,
   "metadata": {},
   "outputs": [
    {
     "data": {
      "text/plain": [
       "1000"
      ]
     },
     "execution_count": 29,
     "metadata": {},
     "output_type": "execute_result"
    }
   ],
   "source": [
    "len(episodes)"
   ]
  },
  {
   "cell_type": "code",
   "execution_count": 31,
   "metadata": {},
   "outputs": [
    {
     "data": {
      "text/plain": [
       "999"
      ]
     },
     "execution_count": 31,
     "metadata": {},
     "output_type": "execute_result"
    }
   ],
   "source": [
    "len(epsilons)"
   ]
  },
  {
   "cell_type": "code",
   "execution_count": 32,
   "metadata": {},
   "outputs": [
    {
     "data": {
      "text/plain": [
       "<matplotlib.legend.Legend at 0x1142303c8>"
      ]
     },
     "execution_count": 32,
     "metadata": {},
     "output_type": "execute_result"
    },
    {
     "data": {
      "image/png": "[encoded data removed]",
      "text/plain": [
       "<Figure size 720x360 with 1 Axes>"
      ]
     },
     "metadata": {},
     "output_type": "display_data"
    }
   ],
   "source": [
    "plt.plot(episodes[:999], epsilons, label= 'Epsilon Decay', c= 'teal')\n",
    "\n",
    "plt.xlabel('Episodes')\n",
    "plt.ylabel('Epsilon')\n",
    "plt.legend(loc=1)"
   ]
  },
  {
   "cell_type": "code",
   "execution_count": 34,
   "metadata": {},
   "outputs": [
    {
     "data": {
      "text/plain": [
       "<matplotlib.legend.Legend at 0x114132ac8>"
      ]
     },
     "execution_count": 34,
     "metadata": {},
     "output_type": "execute_result"
    },
    {
     "data": {
      "image/png": "[encoded data removed]",
      "text/plain": [
       "<Figure size 720x360 with 1 Axes>"
      ]
     },
     "metadata": {},
     "output_type": "display_data"
    }
   ],
   "source": [
    "plt.plot(episodes, rewards, label= 'Rewards per Episodes', c= 'orange')\n",
    "\n",
    "plt.xlabel('Episodes')\n",
    "plt.ylabel('Rewards')\n",
    "plt.legend(loc=2)"
   ]
  },
  {
   "cell_type": "code",
   "execution_count": null,
   "metadata": {
    "collapsed": true
   },
   "outputs": [],
   "source": []
  }
 ],
 "metadata": {
  "kernelspec": {
   "display_name": "Python 3",
   "language": "python",
   "name": "python3"
  },
  "language_info": {
   "codemirror_mode": {
    "name": "ipython",
    "version": 3
   },
   "file_extension": ".py",
   "mimetype": "text/x-python",
   "name": "python",
   "nbconvert_exporter": "python",
   "pygments_lexer": "ipython3",
   "version": "3.6.8"
  }
 },
 "nbformat": 4,
 "nbformat_minor": 2
}
